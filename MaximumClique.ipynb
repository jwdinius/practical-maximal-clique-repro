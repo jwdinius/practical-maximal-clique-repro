{
 "cells": [
  {
   "cell_type": "code",
   "execution_count": 1,
   "metadata": {},
   "outputs": [],
   "source": [
    "import numpy as np\n",
    "import matplotlib.pyplot as plt\n",
    "from copy import deepcopy\n",
    "import time"
   ]
  },
  {
   "cell_type": "markdown",
   "metadata": {},
   "source": [
    "Set random seed for repeatability."
   ]
  },
  {
   "cell_type": "code",
   "execution_count": 2,
   "metadata": {},
   "outputs": [],
   "source": [
    "np.random.seed(seed=11011)"
   ]
  },
  {
   "cell_type": "markdown",
   "metadata": {},
   "source": [
    "User-specified parameters:\n",
    "\n",
    "* `m` is number of points in source cloud\n",
    "* `n` is number of points in target cloud\n",
    "* `noise_val` is the 1-sigma value for applying noise (per channel $x,y$)\n",
    "* `ang` is the rotation angle (ccw is positive) to apply\n",
    "* `xt` is the $x$ translation to apply\n",
    "* `yt` is the $y$ translation to apply"
   ]
  },
  {
   "cell_type": "code",
   "execution_count": 3,
   "metadata": {},
   "outputs": [],
   "source": [
    "m, n = 15, 25\n",
    "noise_val = 0.\n",
    "ang = np.pi / 4.\n",
    "xt, yt = 10.0, 15.0\n",
    "side_length = 20"
   ]
  },
  {
   "cell_type": "code",
   "execution_count": 4,
   "metadata": {},
   "outputs": [],
   "source": [
    "# uniformly sample on square with dimensions side_length x side_length\n",
    "# use homogeneous coordinates\n",
    "target_pts = side_length * np.random.random((4, n)) - 0.5 * side_length\n",
    "target_pts[2, :] = 0.\n",
    "target_pts[3, :] = 1.\n",
    "\n",
    "# transform\n",
    "ca, sa = np.cos(ang), np.sin(ang)\n",
    "tgt_to_src = np.array([[ca, sa, 0., xt],\n",
    "                       [-sa, ca, 0., yt],\n",
    "                       [0., 0., 1., 0.],\n",
    "                       [0., 0, 0., 1.]])\n",
    "target_pts_xform = np.dot(tgt_to_src, target_pts)\n",
    "correspondences = np.random.choice(n, m, replace=False)\n",
    "# subsample and reorder target points\n",
    "source_pts = target_pts_xform[:, correspondences] + noise_val*np.random.randn(4, m)\n",
    "source_pts[2, :] = 0.\n",
    "source_pts[3, :] = 1."
   ]
  },
  {
   "cell_type": "markdown",
   "metadata": {},
   "source": [
    "A _correspondence_ is encoded by two points:  one from the source point cloud and the other from the target point cloud.  Encode the correspondence of source point $i$ to target point $j$ as $i' \\equiv i n + j$. "
   ]
  },
  {
   "cell_type": "code",
   "execution_count": 5,
   "metadata": {},
   "outputs": [],
   "source": [
    "correspondenceVertices = [] # for comparison below\n",
    "for i,c in enumerate(correspondences):\n",
    "    correspondenceVertices.append(i*n + c)"
   ]
  },
  {
   "cell_type": "code",
   "execution_count": 6,
   "metadata": {},
   "outputs": [
    {
     "name": "stdout",
     "output_type": "stream",
     "text": [
      "Correspondence vertices list is [23, 41, 72, 88, 105, 137, 165, 189, 219, 234, 267, 283, 301, 328, 374]\n"
     ]
    }
   ],
   "source": [
    "print(\"Correspondence vertices list is {}\".format(correspondenceVertices))"
   ]
  },
  {
   "cell_type": "code",
   "execution_count": 7,
   "metadata": {},
   "outputs": [
    {
     "data": {
      "image/png": "[encoded data removed]",
      "text/plain": [
       "<Figure size 432x288 with 2 Axes>"
      ]
     },
     "metadata": {
      "needs_background": "light"
     },
     "output_type": "display_data"
    }
   ],
   "source": [
    "plt.figure()\n",
    "ax1 = plt.subplot(121)\n",
    "ax1.plot(target_pts[0, :], target_pts[1, :], 'o', source_pts[0, :], source_pts[1, :], 'r.')\n",
    "ax1.set_ylabel(\"y\")\n",
    "ax1.set_title(\"Original Alignment\")\n",
    "ax2 = plt.subplot(122)\n",
    "ax2.plot(target_pts[0, :], target_pts[1, :], 'o', label=\"target\")\n",
    "ax2.plot(source_pts[0, :], source_pts[1, :], 'r.', label=\"source\")\n",
    "legend_made = False\n",
    "for i, c in enumerate(correspondences):\n",
    "    if not legend_made:\n",
    "        ax2.plot([target_pts[0, c], source_pts[0, i]], [target_pts[1, c], source_pts[1, i]], 'b--', label=\"correspondence\")\n",
    "        legend_made = True\n",
    "    else:\n",
    "        ax2.plot([target_pts[0, c], source_pts[0, i]], [target_pts[1, c], source_pts[1, i]], 'b--')\n",
    "    ax2.legend()\n",
    "    ax2.set_title(\"True Correspondences\")\n",
    "    ax2.set_xlabel(\"x\")\n",
    "plt.show()"
   ]
  },
  {
   "cell_type": "markdown",
   "metadata": {},
   "source": [
    "Two correspondences are pairwise consistent _iff_:\n",
    "* The source points from each correspondence are a minimum of `pairwiseThreshold` distance apart; call this distance `d1`\n",
    "* The target points from each correspondence are a minimum of `pairwiseThreshold` distance apart; call this distance `d2`\n",
    "* The absolute value of the difference between `d1` and `d2` is _at maximum_ `epsilon` distance apart."
   ]
  },
  {
   "cell_type": "code",
   "execution_count": 8,
   "metadata": {},
   "outputs": [],
   "source": [
    "def isPairwiseConsistent(ci, cj, epsilon=0.1, pwThresh=0.1):\n",
    "    # ci - i*n + i', i \\in source, i' \\in target\n",
    "    # cj - j*n + j', j \\in source, j' \\in target\n",
    "    # ci.x is 3x1 numpy array\n",
    "    # ci.y is 3x1 numpy array\n",
    "    # cj.x is 3x1 numpy array\n",
    "    # cj.y is 3x1 numpy array\n",
    "    d1 = np.linalg.norm(ci[\"x\"] - cj[\"x\"])\n",
    "    d2 = np.linalg.norm(ci[\"y\"] - cj[\"y\"])\n",
    "    d3 = np.abs(d1 - d2)\n",
    "    return  d1 >= pwThresh \\\n",
    "        and d2 >= pwThresh \\\n",
    "        and d3 <= epsilon"
   ]
  },
  {
   "cell_type": "markdown",
   "metadata": {},
   "source": [
    "Simple helper utility to compare correspondence list to maximum clique computed from BnB-based strategies."
   ]
  },
  {
   "cell_type": "code",
   "execution_count": 9,
   "metadata": {},
   "outputs": [],
   "source": [
    "def cliquesAreEquivalent(cliqueOne, cliqueTwo):\n",
    "    return cliqueOne.sort() == cliqueTwo.sort()"
   ]
  },
  {
   "cell_type": "markdown",
   "metadata": {},
   "source": [
    "User-defined constants:\n",
    "* `epsilon` above $\\to$ `eps`\n",
    "* `pairwiseThreshold` above $\\to$ `pwThr`"
   ]
  },
  {
   "cell_type": "code",
   "execution_count": 10,
   "metadata": {},
   "outputs": [],
   "source": [
    "eps = 1e-1\n",
    "pwThr = 1e-1"
   ]
  },
  {
   "cell_type": "markdown",
   "metadata": {},
   "source": [
    "Construct vertices and edges for maximum clique calculation."
   ]
  },
  {
   "cell_type": "code",
   "execution_count": 11,
   "metadata": {},
   "outputs": [],
   "source": [
    "E = []\n",
    "V = [] \n",
    "for i in range(source_pts.shape[1]):\n",
    "    for j in range(target_pts.shape[1]):\n",
    "        for k in range(source_pts.shape[1]):\n",
    "            for l in range(target_pts.shape[1]):\n",
    "                if i != k and j != l:\n",
    "                    ci = {\"x\": source_pts[:3, i], \"y\": target_pts[:3, j]}\n",
    "                    cj = {\"x\": source_pts[:3, k], \"y\": target_pts[:3, l]}\n",
    "                    consis = isPairwiseConsistent(ci, cj, epsilon = eps, pwThresh = pwThr)\n",
    "                    if consis:\n",
    "                        V1 = i*n + j\n",
    "                        V2 = k*n + l\n",
    "                        E.append((V1, V2))\n",
    "                        if V1 not in V:\n",
    "                            V.append(V1)\n",
    "                        if V2 not in V:\n",
    "                            V.append(V2)"
   ]
  },
  {
   "cell_type": "markdown",
   "metadata": {},
   "source": [
    "## Maximum Clique Identification using `networkx`"
   ]
  },
  {
   "cell_type": "code",
   "execution_count": 12,
   "metadata": {},
   "outputs": [],
   "source": [
    "import networkx as nx"
   ]
  },
  {
   "cell_type": "code",
   "execution_count": 13,
   "metadata": {},
   "outputs": [],
   "source": [
    "G = nx.Graph()\n",
    "G.add_edges_from(E)"
   ]
  },
  {
   "cell_type": "code",
   "execution_count": 14,
   "metadata": {},
   "outputs": [],
   "source": [
    "cliques = list(nx.find_cliques_recursive(G))\n",
    "#plt.figure()\n",
    "#nx.draw(G, with_labels=True)\n",
    "maxClique = []\n",
    "maxCliqueSize = 0\n",
    "tBegin = time.time()\n",
    "for c in cliques:\n",
    "    if len(c) > maxCliqueSize:\n",
    "        maxClique = c\n",
    "        maxCliqueSize = len(c)\n",
    "timeElapsed = time.time() - tBegin"
   ]
  },
  {
   "cell_type": "code",
   "execution_count": 15,
   "metadata": {},
   "outputs": [
    {
     "name": "stdout",
     "output_type": "stream",
     "text": [
      "Max clique was found in 0.000392913818359375sec\n",
      "Max clique has size 15\n",
      "Max clique is [105, 234, 165, 72, 328, 41, 137, 267, 301, 219, 374, 88, 283, 189, 23]\n"
     ]
    }
   ],
   "source": [
    "print(\"Max clique was found in {}sec\".format(timeElapsed))\n",
    "print(\"Max clique has size {}\".format(maxCliqueSize))\n",
    "print(\"Max clique is {}\".format(maxClique))"
   ]
  },
  {
   "cell_type": "markdown",
   "metadata": {},
   "source": [
    "Check that `maxClique` is equivalent to the true correspondences."
   ]
  },
  {
   "cell_type": "code",
   "execution_count": 16,
   "metadata": {},
   "outputs": [
    {
     "name": "stdout",
     "output_type": "stream",
     "text": [
      "Is the correspondence list equivalent to the max clique?  True\n"
     ]
    }
   ],
   "source": [
    "print(\"Is the correspondence list equivalent to the max clique?  {}\".format(cliquesAreEquivalent(correspondenceVertices, maxClique)))"
   ]
  },
  {
   "cell_type": "markdown",
   "metadata": {},
   "source": [
    "## Practical Maximum Clique Algorithms from the Paper"
   ]
  },
  {
   "cell_type": "code",
   "execution_count": 17,
   "metadata": {},
   "outputs": [],
   "source": [
    "def adjacency(edges, vertex):\n",
    "    adj = []\n",
    "    for e in edges:\n",
    "        if vertex in e:\n",
    "            adj.append(e[0]) if vertex != e[0] else adj.append(e[1])\n",
    "    return adj"
   ]
  },
  {
   "cell_type": "code",
   "execution_count": 18,
   "metadata": {},
   "outputs": [
    {
     "name": "stdout",
     "output_type": "stream",
     "text": [
      "v: 1, adj(V): [2, 5, 6]\n",
      "v: 2, adj(V): [1, 3, 4, 5]\n",
      "v: 3, adj(V): [2, 4, 5]\n",
      "v: 4, adj(V): [2, 3, 5]\n",
      "v: 5, adj(V): [1, 2, 3, 4, 6]\n",
      "v: 6, adj(V): [1, 5]\n"
     ]
    }
   ],
   "source": [
    "# unit test for adjacency using graph from paper (Figure 2)\n",
    "V = [1, 2, 3, 4, 5, 6]\n",
    "E = [(1, 2), (1, 5), (1, 6), (2, 3), (2, 4), (2, 5), (3, 4), (3, 5), (4, 5), (5, 6)]\n",
    "for v in V:\n",
    "    print(\"v: {}, adj(V): {}\".format(v, adjacency(E, v)))"
   ]
  },
  {
   "cell_type": "markdown",
   "metadata": {},
   "source": [
    "### Basic BnB (Algorithm 1)"
   ]
  },
  {
   "cell_type": "code",
   "execution_count": 19,
   "metadata": {},
   "outputs": [],
   "source": [
    "def mcBasicBnB(S, edges):\n",
    "    global R, Rbest\n",
    "    \"\"\"\n",
    "    Algorithm 1 from paper \"A Practical Maximal Clique for Matching with Pairwise Constraints\" by\n",
    "    Bustos et.al\n",
    "    \n",
    "    args:\n",
    "    S - candidate vertices for expansion\n",
    "    edges - edges of (undirected) graph\n",
    "    \"\"\"\n",
    "    while S:\n",
    "        if len(R) + len(S) <= len(Rbest):\n",
    "            return\n",
    "        v = S[0]\n",
    "        R.append(v)\n",
    "        Sprime = [vert for vert in S if vert in adjacency(edges, v)]\n",
    "        if Sprime:\n",
    "            mcBasicBnB(Sprime, edges)\n",
    "        elif len(R) > len(Rbest):\n",
    "            Rbest = deepcopy(R)\n",
    "        R.remove(v)\n",
    "        S.remove(v)"
   ]
  },
  {
   "cell_type": "code",
   "execution_count": 20,
   "metadata": {},
   "outputs": [
    {
     "name": "stdout",
     "output_type": "stream",
     "text": [
      "Rbest is: [2, 3, 4, 5]\n"
     ]
    }
   ],
   "source": [
    "R, Rbest = [], []\n",
    "V = [1, 2, 3, 4, 5, 6]\n",
    "E = [(1, 2), (1, 5), (1, 6), (2, 3), (2, 4), (2, 5), (3, 4), (3, 5), (4, 5), (5, 6)]\n",
    "mcBasicBnB(V, E)\n",
    "print(\"Rbest is: {}\".format(Rbest))"
   ]
  },
  {
   "cell_type": "markdown",
   "metadata": {},
   "source": [
    "Which matches the article's result"
   ]
  },
  {
   "cell_type": "markdown",
   "metadata": {},
   "source": [
    "Quick check:  _Does_ `mcqBasicBnB` _find the correspondences like the previous method tried (i.e. the one using_ `networkx` _)?_"
   ]
  },
  {
   "cell_type": "code",
   "execution_count": 21,
   "metadata": {},
   "outputs": [
    {
     "name": "stdout",
     "output_type": "stream",
     "text": [
      "Max clique was found in 4.391311883926392sec\n",
      "Is the correspondence list equivalent to the mcBasicBnB maximum clique?  True\n"
     ]
    }
   ],
   "source": [
    "E = []\n",
    "V = [] \n",
    "for i in range(source_pts.shape[1]):\n",
    "    for j in range(target_pts.shape[1]):\n",
    "        for k in range(source_pts.shape[1]):\n",
    "            for l in range(target_pts.shape[1]):\n",
    "                if i != k and j != l:\n",
    "                    ci = {\"x\": source_pts[:3, i], \"y\": target_pts[:3, j]}\n",
    "                    cj = {\"x\": source_pts[:3, k], \"y\": target_pts[:3, l]}\n",
    "                    consis = isPairwiseConsistent(ci, cj, epsilon = eps, pwThresh = pwThr)\n",
    "                    if consis:\n",
    "                        V1 = i*n + j\n",
    "                        V2 = k*n + l\n",
    "                        E.append((V1, V2))\n",
    "                        if V1 not in V:\n",
    "                            V.append(V1)\n",
    "                        if V2 not in V:\n",
    "                            V.append(V2)\n",
    "R, Rbest = [], []\n",
    "tBegin = time.time()\n",
    "mcBasicBnB(V, E)\n",
    "timeElapsed = time.time() - tBegin\n",
    "print(\"Max clique was found in {}sec\".format(timeElapsed))\n",
    "maxCliqueBasicBnB = deepcopy(Rbest)\n",
    "print(\"Is the correspondence list equivalent to the mcBasicBnB maximum clique?  {}\".format(cliquesAreEquivalent(correspondenceVertices, maxCliqueBasicBnB)))"
   ]
  },
  {
   "cell_type": "markdown",
   "metadata": {},
   "source": [
    "Cool.  `maxCliqueBasicBnB` works but is pretty slow (though it is faster than the quadratic assignment approach).  Let's try Algorithm 2."
   ]
  },
  {
   "cell_type": "markdown",
   "metadata": {},
   "source": [
    "### MCQ (Algorithm 2)"
   ]
  },
  {
   "cell_type": "code",
   "execution_count": 22,
   "metadata": {},
   "outputs": [],
   "source": [
    "def first_available(colors):\n",
    "    \"\"\"Return smallest integer not in the given list of colors.\"\"\"\n",
    "    count = [0] * (len(colors) + 1)       # Allocate long-enough array of zeros\n",
    "    for color in colors:\n",
    "        if color < len(count):\n",
    "            count[color] += 1\n",
    "    for color in range(len(colors) + 1):\n",
    "        if count[color] == 0:\n",
    "            return color"
   ]
  },
  {
   "cell_type": "code",
   "execution_count": 23,
   "metadata": {},
   "outputs": [],
   "source": [
    "def greedy_color(vertices, edges):\n",
    "    \"\"\"Find the greedy coloring of graph defined by edges in the given vertices.\n",
    "    \"\"\"\n",
    "    color = dict()\n",
    "    for v in vertices:\n",
    "        color[v] = first_available([color[w] for w in adjacency(edges, v) if w in color])\n",
    "    for key in color:\n",
    "        color[key] += 1  # make sure to start coloring from 1\n",
    "    return color"
   ]
  },
  {
   "cell_type": "code",
   "execution_count": 24,
   "metadata": {},
   "outputs": [],
   "source": [
    "def mcMCQ(S, edges, f):\n",
    "    global R, Rbest\n",
    "    \"\"\"\n",
    "    Algorithm 2 from paper \"A Practical Maximal Clique for Matching with Pairwise Constraints\" by\n",
    "    Bustos et.al\n",
    "    \n",
    "    args:\n",
    "    S - candidate vertices for expansion\n",
    "    edges - edges of (undirected) graph\n",
    "    f - coloring of vertices for expansion (len(f) == len(S), by necessity)\n",
    "    \"\"\"\n",
    "    # reorder vertices in S by adjacency\n",
    "    #Ssrt = sorted(S, key=lambda x: len(adjacency(edges, x)), reverse=True)  # this does not work\n",
    "    Ssrt = sorted(S, key=lambda x: len(adjacency(edges, x)), reverse=False)  # this works, want to expand about vertex of largest degree first\n",
    "    #Ssrt = S  # this also works\n",
    "    while Ssrt:\n",
    "        v = Ssrt[-1]\n",
    "        if len(R) + f[v] <= len(Rbest):\n",
    "            return\n",
    "        R.append(v)\n",
    "        Sprime = [vert for vert in Ssrt if vert in adjacency(edges, v)]\n",
    "        if Sprime:\n",
    "            fprime = greedy_color(Sprime, edges)\n",
    "            mcMCQ(Sprime, edges, fprime)\n",
    "        elif len(R) > len(Rbest):\n",
    "            Rbest = deepcopy(R)\n",
    "        R.remove(v)\n",
    "        Ssrt.remove(v)"
   ]
  },
  {
   "cell_type": "code",
   "execution_count": 25,
   "metadata": {},
   "outputs": [
    {
     "name": "stdout",
     "output_type": "stream",
     "text": [
      "Rbest is: [5, 2, 4, 3]\n"
     ]
    }
   ],
   "source": [
    "R, Rbest = [], []\n",
    "V = [1, 2, 3, 4, 5, 6]\n",
    "E = [(1, 2), (1, 5), (1, 6), (2, 3), (2, 4), (2, 5), (3, 4), (3, 5), (4, 5), (5, 6)]\n",
    "f = greedy_color(V, E)\n",
    "#print(f)\n",
    "mcMCQ(V, E, f)\n",
    "print(\"Rbest is: {}\".format(Rbest))"
   ]
  },
  {
   "cell_type": "code",
   "execution_count": 26,
   "metadata": {},
   "outputs": [
    {
     "name": "stdout",
     "output_type": "stream",
     "text": [
      "Max clique was found in 0.07146430015563965sec\n",
      "Is the correspondence list equivalent to the mcMCQ maximum clique?  True\n"
     ]
    }
   ],
   "source": [
    "E = []\n",
    "V = [] \n",
    "for i in range(source_pts.shape[1]):\n",
    "    for j in range(target_pts.shape[1]):\n",
    "        for k in range(source_pts.shape[1]):\n",
    "            for l in range(target_pts.shape[1]):\n",
    "                if i != k and j != l:\n",
    "                    ci = {\"x\": source_pts[:3, i], \"y\": target_pts[:3, j]}\n",
    "                    cj = {\"x\": source_pts[:3, k], \"y\": target_pts[:3, l]}\n",
    "                    consis = isPairwiseConsistent(ci, cj, epsilon = eps, pwThresh = pwThr)\n",
    "                    if consis:\n",
    "                        V1 = i*n + j\n",
    "                        V2 = k*n + l\n",
    "                        E.append((V1, V2))\n",
    "                        if V1 not in V:\n",
    "                            V.append(V1)\n",
    "                        if V2 not in V:\n",
    "                            V.append(V2)\n",
    "R, Rbest = [], []\n",
    "f = greedy_color(V, E)\n",
    "tBegin = time.time()\n",
    "mcMCQ(V, E, f)\n",
    "timeElapsed = time.time() - tBegin\n",
    "maxCliqueMCQ = deepcopy(Rbest)\n",
    "print(\"Max clique was found in {}sec\".format(timeElapsed))\n",
    "print(\"Is the correspondence list equivalent to the mcMCQ maximum clique?  {}\".format(cliquesAreEquivalent(correspondenceVertices, maxCliqueBasicBnB)))"
   ]
  },
  {
   "cell_type": "markdown",
   "metadata": {},
   "source": [
    "### Practical Maximum Clique (Algorithm 3)\n",
    "_This algorithm does not work yet_"
   ]
  },
  {
   "cell_type": "code",
   "execution_count": 33,
   "metadata": {},
   "outputs": [],
   "source": [
    "def computeC(S, F, edges):\n",
    "    U = S + F  # compute union S \\union F\n",
    "    maxDegree = 0\n",
    "    C = deepcopy(S)\n",
    "    vMaxDeg = None\n",
    "    for v in U:\n",
    "        degree = len([x for x in S if x in adjacency(edges, v)])\n",
    "        if degree > maxDegree:\n",
    "            vMaxDeg = v\n",
    "            maxDegree = degree\n",
    "    if not vMaxDeg:\n",
    "        return []\n",
    "    for x in adjacency(edges, vMaxDeg):\n",
    "        if x in C:\n",
    "            C.remove(x)\n",
    "    return C"
   ]
  },
  {
   "cell_type": "code",
   "execution_count": 36,
   "metadata": {},
   "outputs": [],
   "source": [
    "def mcPMC(S, edges, F, f):\n",
    "    global R, Rbest\n",
    "    \"\"\"\n",
    "    Algorithm 3 from paper \"A Practical Maximal Clique for Matching with Pairwise Constraints\" by\n",
    "    Bustos et.al\n",
    "    \n",
    "    args:\n",
    "    S - candidate vertices for expansion\n",
    "    edges - edges of (undirected) graph\n",
    "    F - list of removed vertices\n",
    "    f - coloring of vertices for expansion (len(f) == len(S), by necessity)\n",
    "    \"\"\"\n",
    "    # reorder vertices in S by adjacency\n",
    "    #Ssrt = sorted(S, key=lambda x: len(adjacency(edges, x)), reverse=True)  # this does not work\n",
    "    #Ssrt = sorted(S, key=lambda x: (len(adjacency(edges, x)), -x), reverse=False)  # second sort doesn't work either\n",
    "    Ssrt = sorted(S, key=lambda x: len(adjacency(edges, x)), reverse=False)\n",
    "    print(Ssrt)\n",
    "    C = computeC(Ssrt, F, edges)\n",
    "    print(\"C: {}\".format(C))\n",
    "    i = len(Ssrt) - 1\n",
    "    #print(i)\n",
    "    while i >= 0:\n",
    "        #print(i)\n",
    "        max_color = max([f[vi] for vi in Ssrt])\n",
    "        #print(max_color)\n",
    "        if len(R) + max_color <= len(Rbest):\n",
    "            #print(\"f: {}\".format([f[v] for v in Ssrt]))\n",
    "            #print(\"S: {}\".format(Ssrt))\n",
    "            #print(\"len(R): {}, mc: {}, len(Rbest): {}\".format(len(R), max_color, len(Rbest)))\n",
    "            return\n",
    "        v = Ssrt[i]\n",
    "        if v in C:\n",
    "            print(\"v: {}\".format(v))\n",
    "            R.append(v)\n",
    "            Sprime = [vert for vert in Ssrt if vert in adjacency(edges, v)]\n",
    "            print(\"S': {}\".format(Sprime))\n",
    "            if len(Sprime) != 0:\n",
    "                #Fprime = [vert for vert in F if vert in adjacency(edges, v)]\n",
    "                Fprime = [vert for vert in F if vert in adjacency(edges, v)]\n",
    "                fprime = greedy_color(Sprime, edges)\n",
    "                mcPMC(Sprime, edges, Fprime, fprime)\n",
    "            elif len(R) > len(Rbest):\n",
    "                Rbest = deepcopy(R)\n",
    "            #print(R)\n",
    "            R.remove(v)\n",
    "            Ssrt.remove(v)\n",
    "            F.append(v)\n",
    "            #print(F)\n",
    "            #f = greedy_color(Ssrt, edges)\n",
    "            #print(f)\n",
    "        i -= 1"
   ]
  },
  {
   "cell_type": "code",
   "execution_count": 37,
   "metadata": {},
   "outputs": [
    {
     "name": "stdout",
     "output_type": "stream",
     "text": [
      "[6, 1, 3, 4, 2, 5]\n",
      "C: [5]\n",
      "v: 5\n",
      "S': [6, 1, 3, 4, 2]\n",
      "[6, 1, 3, 4, 2]\n",
      "C: [6, 2]\n",
      "v: 2\n",
      "S': [1, 3, 4]\n",
      "[1, 3, 4]\n",
      "C: [1, 3]\n",
      "v: 3\n",
      "S': [4]\n",
      "[4]\n",
      "C: []\n",
      "v: 1\n",
      "S': []\n",
      "Rbest is: [5, 2, 1]\n"
     ]
    }
   ],
   "source": [
    "R, Rbest = [], []\n",
    "V = [1, 2, 3, 4, 5, 6]\n",
    "#V = [4, 2, 3, 1, 5, 6]\n",
    "E = [(1, 2), (1, 5), (1, 6), (2, 3), (2, 4), (2, 5), (3, 4), (3, 5), (4, 5), (5, 6)]\n",
    "f = greedy_color(V, E)\n",
    "F = []\n",
    "mcPMC(V, E, F, f)\n",
    "print(\"Rbest is: {}\".format(Rbest))"
   ]
  },
  {
   "cell_type": "code",
   "execution_count": null,
   "metadata": {},
   "outputs": [],
   "source": []
  }
 ],
 "metadata": {
  "kernelspec": {
   "display_name": "Python 3",
   "language": "python",
   "name": "python3"
  },
  "language_info": {
   "codemirror_mode": {
    "name": "ipython",
    "version": 3
   },
   "file_extension": ".py",
   "mimetype": "text/x-python",
   "name": "python",
   "nbconvert_exporter": "python",
   "pygments_lexer": "ipython3",
   "version": "3.8.1"
  }
 },
 "nbformat": 4,
 "nbformat_minor": 4
}
